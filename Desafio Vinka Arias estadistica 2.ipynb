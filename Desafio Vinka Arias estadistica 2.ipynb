{
 "cells": [
  {
   "cell_type": "markdown",
   "id": "7d49d289-9f52-4621-b1ed-f8c541a084c3",
   "metadata": {},
   "source": [
    "<center><h1> <font color='green'>DESAFIO : - Estadística descriptiva y probabilidades 2</font></h1></center>\n",
    "<center><h1> <font color='yellow'>Vinka Arias Barrios</font></h1></center>"
   ]
  },
  {
   "cell_type": "code",
   "execution_count": 306,
   "id": "e8e50d6d-2f5e-484e-a63d-7a67923a9896",
   "metadata": {},
   "outputs": [],
   "source": [
    "import random\n",
    "import numpy as np\n",
    "import pandas as pd"
   ]
  },
  {
   "cell_type": "markdown",
   "id": "1a0ec0ed-5a0a-4a12-beea-16bb964c92fb",
   "metadata": {},
   "source": [
    "\r"
   ]
  },
  {
   "cell_type": "code",
   "execution_count": 309,
   "id": "3c527b8d-c2fb-4cdb-b575-158f0b7d3030",
   "metadata": {},
   "outputs": [
    {
     "name": "stdout",
     "output_type": "stream",
     "text": [
      "<class 'pandas.core.frame.DataFrame'>\n",
      "RangeIndex: 32 entries, 0 to 31\n",
      "Data columns (total 13 columns):\n",
      " #   Column            Non-Null Count  Dtype \n",
      "---  ------            --------------  ----- \n",
      " 0   team              32 non-null     object\n",
      " 1   continent         32 non-null     object\n",
      " 2   group             32 non-null     object\n",
      " 3   group_pos         32 non-null     int64 \n",
      " 4   cantidad_juegos   32 non-null     int64 \n",
      " 5   juegos_ganados    32 non-null     int64 \n",
      " 6   juegos_empatados  32 non-null     int64 \n",
      " 7   juegos_perdidos   32 non-null     int64 \n",
      " 8   goles_favor       32 non-null     int64 \n",
      " 9   goles_contra      32 non-null     int64 \n",
      " 10  goles_diferencia  32 non-null     object\n",
      " 11  puntos            32 non-null     int64 \n",
      " 12  clasificado       32 non-null     int64 \n",
      "dtypes: int64(9), object(4)\n",
      "memory usage: 3.4+ KB\n"
     ]
    }
   ],
   "source": [
    "## Leer archivo csv \n",
    "df_worldcup2014 = pd.read_csv(\"worldcup2014.csv\")\n",
    "\n",
    "## metodo info() para analizar tipo de datos de cada columna\n",
    "df_worldcup2014.info()"
   ]
  },
  {
   "cell_type": "code",
   "execution_count": 311,
   "id": "7e6d5279-3d66-4465-a792-730fae8b5c9f",
   "metadata": {},
   "outputs": [
    {
     "data": {
      "text/plain": [
       "(32, 13)"
      ]
     },
     "execution_count": 311,
     "metadata": {},
     "output_type": "execute_result"
    }
   ],
   "source": [
    "#para investigar el archivo un poco sobre la cantidade de filas y columnas\n",
    "df_worldcup2014.shape"
   ]
  },
  {
   "cell_type": "code",
   "execution_count": 313,
   "id": "b97bd12b-f1cc-43c9-86f0-e7bab47aac43",
   "metadata": {},
   "outputs": [
    {
     "data": {
      "text/html": [
       "<div>\n",
       "<style scoped>\n",
       "    .dataframe tbody tr th:only-of-type {\n",
       "        vertical-align: middle;\n",
       "    }\n",
       "\n",
       "    .dataframe tbody tr th {\n",
       "        vertical-align: top;\n",
       "    }\n",
       "\n",
       "    .dataframe thead th {\n",
       "        text-align: right;\n",
       "    }\n",
       "</style>\n",
       "<table border=\"1\" class=\"dataframe\">\n",
       "  <thead>\n",
       "    <tr style=\"text-align: right;\">\n",
       "      <th></th>\n",
       "      <th>team</th>\n",
       "      <th>continent</th>\n",
       "      <th>group</th>\n",
       "      <th>group_pos</th>\n",
       "      <th>cantidad_juegos</th>\n",
       "      <th>juegos_ganados</th>\n",
       "      <th>juegos_empatados</th>\n",
       "      <th>juegos_perdidos</th>\n",
       "      <th>goles_favor</th>\n",
       "      <th>goles_contra</th>\n",
       "      <th>goles_diferencia</th>\n",
       "      <th>puntos</th>\n",
       "      <th>clasificado</th>\n",
       "    </tr>\n",
       "  </thead>\n",
       "  <tbody>\n",
       "    <tr>\n",
       "      <th>0</th>\n",
       "      <td>Brazil</td>\n",
       "      <td>southamerica</td>\n",
       "      <td>A</td>\n",
       "      <td>1</td>\n",
       "      <td>3</td>\n",
       "      <td>2</td>\n",
       "      <td>1</td>\n",
       "      <td>0</td>\n",
       "      <td>7</td>\n",
       "      <td>2</td>\n",
       "      <td>5</td>\n",
       "      <td>7</td>\n",
       "      <td>1</td>\n",
       "    </tr>\n",
       "    <tr>\n",
       "      <th>1</th>\n",
       "      <td>Mexico</td>\n",
       "      <td>northamerica</td>\n",
       "      <td>A</td>\n",
       "      <td>2</td>\n",
       "      <td>3</td>\n",
       "      <td>2</td>\n",
       "      <td>1</td>\n",
       "      <td>0</td>\n",
       "      <td>4</td>\n",
       "      <td>1</td>\n",
       "      <td>3</td>\n",
       "      <td>7</td>\n",
       "      <td>1</td>\n",
       "    </tr>\n",
       "    <tr>\n",
       "      <th>2</th>\n",
       "      <td>Croatia</td>\n",
       "      <td>europe</td>\n",
       "      <td>A</td>\n",
       "      <td>3</td>\n",
       "      <td>3</td>\n",
       "      <td>1</td>\n",
       "      <td>0</td>\n",
       "      <td>2</td>\n",
       "      <td>6</td>\n",
       "      <td>6</td>\n",
       "      <td>0</td>\n",
       "      <td>3</td>\n",
       "      <td>0</td>\n",
       "    </tr>\n",
       "    <tr>\n",
       "      <th>3</th>\n",
       "      <td>Cameroon</td>\n",
       "      <td>africa</td>\n",
       "      <td>A</td>\n",
       "      <td>4</td>\n",
       "      <td>3</td>\n",
       "      <td>0</td>\n",
       "      <td>0</td>\n",
       "      <td>3</td>\n",
       "      <td>1</td>\n",
       "      <td>9</td>\n",
       "      <td>−8</td>\n",
       "      <td>0</td>\n",
       "      <td>0</td>\n",
       "    </tr>\n",
       "    <tr>\n",
       "      <th>4</th>\n",
       "      <td>Netherlands</td>\n",
       "      <td>europe</td>\n",
       "      <td>B</td>\n",
       "      <td>1</td>\n",
       "      <td>3</td>\n",
       "      <td>3</td>\n",
       "      <td>0</td>\n",
       "      <td>0</td>\n",
       "      <td>10</td>\n",
       "      <td>3</td>\n",
       "      <td>7</td>\n",
       "      <td>9</td>\n",
       "      <td>1</td>\n",
       "    </tr>\n",
       "  </tbody>\n",
       "</table>\n",
       "</div>"
      ],
      "text/plain": [
       "          team     continent group  group_pos  cantidad_juegos  \\\n",
       "0       Brazil  southamerica     A          1                3   \n",
       "1       Mexico  northamerica     A          2                3   \n",
       "2      Croatia        europe     A          3                3   \n",
       "3     Cameroon        africa     A          4                3   \n",
       "4  Netherlands        europe     B          1                3   \n",
       "\n",
       "   juegos_ganados  juegos_empatados  juegos_perdidos  goles_favor  \\\n",
       "0               2                 1                0            7   \n",
       "1               2                 1                0            4   \n",
       "2               1                 0                2            6   \n",
       "3               0                 0                3            1   \n",
       "4               3                 0                0           10   \n",
       "\n",
       "   goles_contra goles_diferencia  puntos  clasificado  \n",
       "0             2                5       7            1  \n",
       "1             1                3       7            1  \n",
       "2             6                0       3            0  \n",
       "3             9               −8       0            0  \n",
       "4             3                7       9            1  "
      ]
     },
     "execution_count": 313,
     "metadata": {},
     "output_type": "execute_result"
    }
   ],
   "source": [
    "#conocer las  columnas\n",
    "df_worldcup2014.head()\n"
   ]
  },
  {
   "cell_type": "code",
   "execution_count": 315,
   "id": "1601fc75-762a-46da-9d7f-b1afe51e5793",
   "metadata": {},
   "outputs": [
    {
     "name": "stdout",
     "output_type": "stream",
     "text": [
      "Cantidad Total de registros es: :32\n"
     ]
    }
   ],
   "source": [
    "df_Total=df_worldcup2014.value_counts().sum()\n",
    "print(f'Cantidad Total de registros es: :{df_Total}')"
   ]
  },
  {
   "cell_type": "markdown",
   "id": "39b0ee9b-a621-4c7a-aaf5-9b825f5bf754",
   "metadata": {},
   "source": [
    "<left><h2> <font color='yellow'> 1- Considerando el experimento de seleccionar un país participante al azar, se pide\r\n",
    "determinar las probabilidades de los siguientessucesos <</font></21><leftr>"
   ]
  },
  {
   "cell_type": "markdown",
   "id": "5b36fb73-8003-4ce2-9935-04ec14f16ef3",
   "metadata": {},
   "source": [
    "<left><h1> <font color='white'>a.Pertenecer a África\n",
    ".</font></h1><leftr>"
   ]
  },
  {
   "cell_type": "code",
   "execution_count": 319,
   "id": "9606b4e1-c0e7-4968-8a9c-dc6a66f90884",
   "metadata": {},
   "outputs": [
    {
     "name": "stdout",
     "output_type": "stream",
     "text": [
      "Probabilidad de pertenecer a  Africa:0.15625\n"
     ]
    }
   ],
   "source": [
    "#Probabilidad de pertenecer a Africa\n",
    "df_Pertenecer_Africa = df_worldcup2014['continent'].value_counts()['africa']/df_Total\n",
    "print(f'Probabilidad de pertenecer a  Africa:{df_Pertenecer_Africa}')"
   ]
  },
  {
   "cell_type": "markdown",
   "id": "0970a328-0353-47db-ad42-46f779775397",
   "metadata": {},
   "source": [
    "<left><h1> <font color='white'>b.Pertenecer a Asia\n",
    ".</font></h1></center>"
   ]
  },
  {
   "cell_type": "code",
   "execution_count": 322,
   "id": "c110e796-a5da-4e0a-b9ed-0286eb35161a",
   "metadata": {},
   "outputs": [
    {
     "name": "stdout",
     "output_type": "stream",
     "text": [
      "Probabilidad de pertenecer a  Asia:0.125\n"
     ]
    }
   ],
   "source": [
    "\n",
    "#Probabilidad de pertenecer a Asia\n",
    "df_Pertenecer_Asia = df_worldcup2014['continent'].value_counts()['asia']/df_Total\n",
    "print(f'Probabilidad de pertenecer a  Asia:{df_Pertenecer_Asia}')\n",
    "\n"
   ]
  },
  {
   "cell_type": "markdown",
   "id": "1c04bb7e-da47-4c58-97b3-d37e4741b943",
   "metadata": {},
   "source": [
    "<left><h1> <font color='white'>c.Pertenecer a Europa\n",
    ".</font></h1></center>"
   ]
  },
  {
   "cell_type": "code",
   "execution_count": 353,
   "id": "faa4f73c-dfa5-4b01-abab-9b256e596e08",
   "metadata": {},
   "outputs": [
    {
     "name": "stdout",
     "output_type": "stream",
     "text": [
      "Probabilidad de pertenecer a  Europa:0.40625\n"
     ]
    }
   ],
   "source": [
    "\n",
    "#Probabilidad de pertenecer a Europa\n",
    "df_Pertenecer_Europa = df_worldcup2014['continent'].value_counts()['europe']/df_Total\n",
    "print(f'Probabilidad de pertenecer a  Europa:{df_Pertenecer_Europa}')\n",
    "\n"
   ]
  },
  {
   "cell_type": "markdown",
   "id": "5d47fd9b-8297-4c73-9b04-94a03606733b",
   "metadata": {},
   "source": [
    "<left><h1> <font color='white'>d.Pertenecer a Norteamerica.</font></h1></center>"
   ]
  },
  {
   "cell_type": "code",
   "execution_count": 328,
   "id": "3e6e4c21-8ae2-4008-ab70-6c121c053f8e",
   "metadata": {},
   "outputs": [
    {
     "name": "stdout",
     "output_type": "stream",
     "text": [
      "Probabilidad de pertenecer a  Norteamérica:0.125\n"
     ]
    }
   ],
   "source": [
    "#Probabilidad de pertenecer a Europa\n",
    "df_Pertenecer_Norteamérica = df_worldcup2014['continent'].value_counts()['northamerica']/df_Total\n",
    "print(f'Probabilidad de pertenecer a  Norteamérica:{df_Pertenecer_Norteamérica}')"
   ]
  },
  {
   "cell_type": "markdown",
   "id": "9134799a-8c82-49db-919c-cdc1ce2cb9f3",
   "metadata": {},
   "source": [
    "<left><h1> <font color='white'>e.Pertenecer a Sudamerica.</font></h1></center>"
   ]
  },
  {
   "cell_type": "code",
   "execution_count": 331,
   "id": "fad2e0d2-985e-4848-8e53-6eadd60c2422",
   "metadata": {},
   "outputs": [
    {
     "name": "stdout",
     "output_type": "stream",
     "text": [
      "Probabilidad de pertenecer a  Sudamérica:0.1875\n"
     ]
    }
   ],
   "source": [
    "#Probabilidad de pertenecer a Europa\n",
    "df_Pertenecer_Sudamérica = df_worldcup2014['continent'].value_counts()['southamerica']/df_Total\n",
    "print(f'Probabilidad de pertenecer a  Sudamérica:{df_Pertenecer_Sudamérica}')\n"
   ]
  },
  {
   "cell_type": "markdown",
   "id": "7f9a2f5f-5f01-45be-8772-b1491e4895d1",
   "metadata": {},
   "source": [
    "\n",
    "<left><h1> <font color='white'>f. Clasificar a segunda ronda.</font></h1></center>"
   ]
  },
  {
   "cell_type": "code",
   "execution_count": 334,
   "id": "30db9042-02ce-4fd8-aa0c-d15ea84caada",
   "metadata": {},
   "outputs": [
    {
     "name": "stdout",
     "output_type": "stream",
     "text": [
      "Probabilidad de Clasificar a Segunda ronda:0.5\n"
     ]
    }
   ],
   "source": [
    "# todos aquellos que estan clasificados\n",
    "#Probabilidad de clasificar a segunda ronda\n",
    "\n",
    "condicion_clasificados = df_worldcup2014['clasificado']==1\n",
    "Probabilidad_segunda_ronda = condicion_clasificados.sum()/df_Total\n",
    "print(f'Probabilidad de Clasificar a Segunda ronda:{Probabilidad_segunda_ronda}')"
   ]
  },
  {
   "cell_type": "markdown",
   "id": "026e6ce6-5827-4526-afcb-915398715c48",
   "metadata": {},
   "source": [
    "\n"
   ]
  },
  {
   "cell_type": "code",
   "execution_count": null,
   "id": "dd1e04e0-a143-4726-ac79-0160b73c03a0",
   "metadata": {},
   "outputs": [],
   "source": []
  },
  {
   "cell_type": "markdown",
   "id": "76b84f71-b6d0-4317-8b61-28a0dd3118bb",
   "metadata": {},
   "source": [
    "\n",
    "<left><h1> <font color='white'>g. Ganar al menos un partido</font></h1></center>"
   ]
  },
  {
   "cell_type": "code",
   "execution_count": 338,
   "id": "594b0828-067c-4493-b9b1-531e79f2e5e5",
   "metadata": {},
   "outputs": [
    {
     "name": "stdout",
     "output_type": "stream",
     "text": [
      "Probabilidad de Ganar 1 partido:0.34375\n"
     ]
    }
   ],
   "source": [
    "# todos aquellos que estan ganaron un partido\n",
    "#Probabilidad de ganar al menos un partido\n",
    "\n",
    "condicion_ganar_1_partido = df_worldcup2014['juegos_ganados']==1\n",
    "Probabilidad_ganar_1_partido = condicion_ganar_1_partido.sum()/df_Total\n",
    "print(f'Probabilidad de Ganar 1 partido:{Probabilidad_ganar_1_partido}')\n"
   ]
  },
  {
   "cell_type": "markdown",
   "id": "4161d55e-50e4-4f39-8bdf-a34964b3bece",
   "metadata": {},
   "source": [
    "\n",
    "<left><h1> <font color='white'>h. Pertenecer a Africa y clasificar a segunda ronda</font></h1></center>"
   ]
  },
  {
   "cell_type": "code",
   "execution_count": 341,
   "id": "930da519-52eb-4ec2-9f0e-7f58e6451d90",
   "metadata": {},
   "outputs": [
    {
     "name": "stdout",
     "output_type": "stream",
     "text": [
      "La Probabilidad de Pertenecer a Africa y clasificar a segunda ronda es:0.0625\n"
     ]
    }
   ],
   "source": [
    "#condicion 1 ser de Africa\n",
    "condicion1 =  df_worldcup2014['continent'] =='africa'\n",
    "#condicion 2 estar clasificado\n",
    "condicion2 =  df_worldcup2014['clasificado']==1\n",
    "#condicion1 y condicion2 sumados y dividido por el total \n",
    "P_Africa_clasificar_2da_ronda = (condicion1 & condicion2).sum()/df_Total\n",
    "\n",
    "print(f'La Probabilidad de Pertenecer a Africa y clasificar a segunda ronda es:{P_Africa_clasificar_2da_ronda}')"
   ]
  },
  {
   "cell_type": "markdown",
   "id": "6c45b8cd-ec87-4272-bc1d-6da82b8c7027",
   "metadata": {},
   "source": [
    "\n",
    "<left><h1> <font color='white'>i. Pertenecer a Europa y clasificar a segunda ronda</font></h1></center>"
   ]
  },
  {
   "cell_type": "code",
   "execution_count": 357,
   "id": "5852c156-921d-47e4-8eec-48239b139bda",
   "metadata": {},
   "outputs": [
    {
     "name": "stdout",
     "output_type": "stream",
     "text": [
      "La Probabilidad de Pertenecer a Europa y clasificar a segunda ronda es:0.1875\n"
     ]
    }
   ],
   "source": [
    "#condicion 1 ser de EuroPA\n",
    "condicion1 =   df_worldcup2014['continent'] =='europe'\n",
    "#condicion 2 estar clasificado\n",
    "condicion2 =  df_worldcup2014['clasificado']==1\n",
    "\n",
    "P_Europa_clasificar_2da_ronda= (condicion1 & condicion2).sum()/df_Total\n",
    "print(f'La Probabilidad de Pertenecer a Europa y clasificar a segunda ronda es:{P_Europa_clasificar_2da_ronda}')\n",
    "\n",
    "\n"
   ]
  },
  {
   "cell_type": "markdown",
   "id": "dc1afc69-256c-46d5-8195-71bbb356c1c8",
   "metadata": {},
   "source": [
    "\n",
    "<left><h1> <font color='white'>j. Pertenecer a Asia y clasificar a segunda ronda</font></h1></center>"
   ]
  },
  {
   "cell_type": "code",
   "execution_count": 237,
   "id": "f56d4e1f-63c3-4bc8-8e0c-be673199f784",
   "metadata": {},
   "outputs": [
    {
     "name": "stdout",
     "output_type": "stream",
     "text": [
      "La Probabilidad de Pertenecer a Asia y clasificar a segunda ronda es:0.0\n"
     ]
    }
   ],
   "source": [
    "#condicion 1 ser de Asia\n",
    "condicion1 =  df_worldcup2014['continent'] =='asia'\n",
    "#condicion 2 estar clasificado\n",
    "condicion2 =  df_worldcup2014['clasificado']==1\n",
    "\n",
    "P_Asia_clasificar_2da_ronda= (condicion1 & condicion2).sum()/df_Total\n",
    "print(f'La Probabilidad de Pertenecer a Asia y clasificar a segunda ronda es:{P_Asia_clasificar_2da_ronda}')\n",
    "\n",
    "\n"
   ]
  },
  {
   "cell_type": "markdown",
   "id": "f4cec3e1-dda0-4fac-ba6e-c8fcd36f440a",
   "metadata": {},
   "source": [
    "\n",
    "<left><h1> <font color='white'>k. Pertenecer a Sudamérica y clasificar a segunda ronda</font></h1></center>"
   ]
  },
  {
   "cell_type": "code",
   "execution_count": 240,
   "id": "f984a7fc-65d5-48c3-80d0-04a18985a560",
   "metadata": {},
   "outputs": [
    {
     "name": "stdout",
     "output_type": "stream",
     "text": [
      "La Probabilidad de Pertenecer a sudamerica y clasificar a segunda ronda es:0.15625\n"
     ]
    }
   ],
   "source": [
    "\n",
    "#condicion 1 ser de Sudamerica\n",
    "condicion1 =  df_worldcup2014['continent'] =='southamerica'\n",
    "#condicion 2 estar clasificado\n",
    "condicion2 =  df_worldcup2014['clasificado']==1\n",
    "\n",
    "P_Sudamérica_clasificar_2da_ronda= (condicion1 & condicion2).sum()/df_Total\n",
    "\n",
    "print(f'La Probabilidad de Pertenecer a sudamerica y clasificar a segunda ronda es:{P_Sudamérica_clasificar_2da_ronda}')\n",
    "\n"
   ]
  },
  {
   "cell_type": "markdown",
   "id": "195c724b-462a-4aaf-91be-afe4db7c8b45",
   "metadata": {},
   "source": [
    "<left><h1> <font color='white'>l. Pertenecer a Norteamérica y clasificar a segunda ronda</font></h1></center>"
   ]
  },
  {
   "cell_type": "code",
   "execution_count": 243,
   "id": "8a78df12-2eb5-4927-a186-b50b6cba9ff9",
   "metadata": {},
   "outputs": [
    {
     "name": "stdout",
     "output_type": "stream",
     "text": [
      "La Probabilidad de Pertenecer a sudamerica y clasificar a segunda ronda es:0.09375\n"
     ]
    }
   ],
   "source": [
    "#condicion 1 ser de Norteamérica\n",
    "condicion1 =  df_worldcup2014['continent'] =='northamerica'\n",
    "#condicion 2 estar clasificado\n",
    "condicion2 =  df_worldcup2014['clasificado']==1\n",
    "\n",
    "P_Northamérica_clasificar_2da_ronda= (condicion1 & condicion2).sum()/df_Total\n",
    "\n",
    "print(f'La Probabilidad de Pertenecer a sudamerica y clasificar a segunda ronda es:{P_Northamérica_clasificar_2da_ronda}')\n"
   ]
  },
  {
   "cell_type": "markdown",
   "id": "aaea6200-0787-4d21-a553-62589bbf8496",
   "metadata": {},
   "source": [
    "<left><h1> <font color='white'>m. Pertenecer a África o clasificar a segunda ronda</font></h1></center>"
   ]
  },
  {
   "cell_type": "code",
   "execution_count": 246,
   "id": "f006a0e6-eb59-4568-bf11-8fa0bad7fb05",
   "metadata": {},
   "outputs": [
    {
     "name": "stdout",
     "output_type": "stream",
     "text": [
      "La Probabilidad de Pertenecer a Africa ó clasificar a segunda ronda es:0.59375\n"
     ]
    }
   ],
   "source": [
    "#condicion 1 Pertenecer a Africa\n",
    "condicion1 =  df_worldcup2014['continent'] =='africa'\n",
    "#condicion 2 estar clasificado\n",
    "condicion2 =  df_worldcup2014['clasificado']==1\n",
    "\n",
    "P_Africa_ó_clasificar_2da_ronda= (condicion1 | condicion2).sum()/df_Total\n",
    "\n",
    "print(f'La Probabilidad de Pertenecer a Africa ó clasificar a segunda ronda es:{P_Africa_ó_clasificar_2da_ronda}')\n"
   ]
  },
  {
   "cell_type": "markdown",
   "id": "1ee154c6-848b-468e-878c-f77de0a9f85e",
   "metadata": {},
   "source": [
    "<left><h1> <font color='white'>n. Pertenecer a Europa o clasificar a segunda ronda</font></h1></center>"
   ]
  },
  {
   "cell_type": "code",
   "execution_count": 249,
   "id": "7fb03cfe-e8d9-4d33-bde8-8d9c1f95f401",
   "metadata": {},
   "outputs": [
    {
     "name": "stdout",
     "output_type": "stream",
     "text": [
      "La Probabilidad de Pertenecer a Europa ó clasificar a segunda ronda es:0.71875\n"
     ]
    }
   ],
   "source": [
    "#condicion 1 Pertenecer a Africa\n",
    "condicion1 =  df_worldcup2014['continent'] =='europe'\n",
    "#condicion 2 estar clasificado\n",
    "condicion2 =  df_worldcup2014['clasificado']==1\n",
    "\n",
    "P_europa_ó_clasificar_2da_ronda= (condicion1 | condicion2).sum()/df_Total\n",
    "\n",
    "print(f'La Probabilidad de Pertenecer a Europa ó clasificar a segunda ronda es:{P_europa_ó_clasificar_2da_ronda}')\n"
   ]
  },
  {
   "cell_type": "markdown",
   "id": "06904304-3383-48be-bf40-d4e301d4d6f7",
   "metadata": {},
   "source": [
    "<left><h1> <font color='white'>o. Pertenecer a Asia o clasificar a segunda ronda</font></h1></center>"
   ]
  },
  {
   "cell_type": "code",
   "execution_count": 252,
   "id": "7c0cb053-f237-4443-8c63-ac73fe8c476d",
   "metadata": {},
   "outputs": [
    {
     "name": "stdout",
     "output_type": "stream",
     "text": [
      "La Probabilidad de Pertenecer a Asia ó clasificar a segunda ronda es:0.625\n"
     ]
    }
   ],
   "source": [
    "#condicion 1 Pertenecer a Asia\n",
    "condicion1 =  df_worldcup2014['continent'] =='asia'\n",
    "#condicion 2 estar clasificado\n",
    "condicion2 =  df_worldcup2014['clasificado']==1\n",
    "\n",
    "P_asia_ó_clasificar_2da_ronda= (condicion1 | condicion2).sum()/df_Total\n",
    "\n",
    "print(f'La Probabilidad de Pertenecer a Asia ó clasificar a segunda ronda es:{P_asia_ó_clasificar_2da_ronda}')\n"
   ]
  },
  {
   "cell_type": "markdown",
   "id": "cf8520db-0ab2-4fae-8414-7729b37a0b8d",
   "metadata": {},
   "source": [
    "<left><h1> <font color='white'>p. Pertenecer a Sudamérica o clasificar a segunda ronda</font></h1></center>"
   ]
  },
  {
   "cell_type": "code",
   "execution_count": 255,
   "id": "40381794-239c-4c16-be7b-053ed4b467a5",
   "metadata": {},
   "outputs": [
    {
     "name": "stdout",
     "output_type": "stream",
     "text": [
      "La Probabilidad de Pertenecer a Asia ó clasificar a segunda ronda es:0.53125\n"
     ]
    }
   ],
   "source": [
    "#condicion 1 Pertenecer a Asia\n",
    "condicion1 =  df_worldcup2014['continent'] =='southamerica'\n",
    "#condicion 2 estar clasificado\n",
    "condicion2 =  df_worldcup2014['clasificado']==1\n",
    "\n",
    "P_sudamerica_ó_clasificar_2da_ronda= (condicion1 | condicion2).sum()/df_Total\n",
    "\n",
    "print(f'La Probabilidad de Pertenecer a Asia ó clasificar a segunda ronda es:{P_sudamerica_ó_clasificar_2da_ronda}')\n"
   ]
  },
  {
   "cell_type": "markdown",
   "id": "18c6f30f-90b0-41a3-ab39-a0b65a02ad1d",
   "metadata": {},
   "source": [
    "<left><h1> <font color='white'>q. Pertenecer a Norteamerica o clasificar a segunda ronda</font></h1></center>"
   ]
  },
  {
   "cell_type": "code",
   "execution_count": 258,
   "id": "09a9e26f-012a-42e6-b524-99024ec5daba",
   "metadata": {},
   "outputs": [
    {
     "name": "stdout",
     "output_type": "stream",
     "text": [
      "La Probabilidad de Pertenecer a Asia ó clasificar a segunda ronda es:0.53125\n"
     ]
    }
   ],
   "source": [
    "#condicion 1 Pertenecer a Asia\n",
    "condicion1 =  df_worldcup2014['continent'] =='northamerica'\n",
    "#condicion 2 estar clasificado\n",
    "condicion2 =  df_worldcup2014['clasificado']==1\n",
    "\n",
    "P_norteamerica_ó_clasificar_2da_ronda= (condicion1 | condicion2).sum()/df_Total\n",
    "\n",
    "print(f'La Probabilidad de Pertenecer a Asia ó clasificar a segunda ronda es:{P_norteamerica_ó_clasificar_2da_ronda}')\n"
   ]
  },
  {
   "cell_type": "markdown",
   "id": "95af4e21-c6dc-4097-9afa-5398b5e08e08",
   "metadata": {},
   "source": [
    "<left><h1> <font color='white'>r. Pertenecer a África y haber ganado al menos un partido</font></h1></center>"
   ]
  },
  {
   "cell_type": "code",
   "execution_count": 261,
   "id": "ca1e5fcd-41b5-429b-bfd9-7056ad6d1744",
   "metadata": {},
   "outputs": [
    {
     "name": "stdout",
     "output_type": "stream",
     "text": [
      "La Probabilidad de Pertenecer a Africa y haber ganado al menos 1 partido es :0.78125\n"
     ]
    }
   ],
   "source": [
    "#condicion 1 Pertenecer a Africa\n",
    "condicion1 =  df_worldcup2014['continent'] =='africa'\n",
    "#condicion 2 haber ganado al menos 1 partido\n",
    "condicion2 =  df_worldcup2014['juegos_ganados']>=1\n",
    "\n",
    "P_Africa_Gano_minimo_1_partido= (condicion1 | condicion2).sum()/df_Total\n",
    "\n",
    "print(f'La Probabilidad de Pertenecer a Africa y haber ganado al menos 1 partido es :{P_Africa_Gano_minimo_1_partido}')\n"
   ]
  },
  {
   "cell_type": "markdown",
   "id": "5ae0fba8-4cc0-4322-9d4a-11e80c845c43",
   "metadata": {},
   "source": [
    "<left><h1> <font color='white'>s. Pertenecer a Europa y haber ganado al menos un partido</font></h1></center>"
   ]
  },
  {
   "cell_type": "code",
   "execution_count": 264,
   "id": "2083cf8d-4067-4218-9d3f-133e6cade6c4",
   "metadata": {},
   "outputs": [
    {
     "name": "stdout",
     "output_type": "stream",
     "text": [
      "La Probabilidad de Pertenecer a europa y haber ganado al menos 1 partido es :0.78125\n"
     ]
    }
   ],
   "source": [
    "#condicion 1 Pertenecer a europa\n",
    "condicion1 =  df_worldcup2014['continent'] =='europe'\n",
    "#condicion 2 haber ganado al menos 1 partido\n",
    "condicion2 =  df_worldcup2014['juegos_ganados']>=1\n",
    "\n",
    "P_europa_Gano_minimo_1_partido= (condicion1 | condicion2).sum()/df_Total\n",
    "\n",
    "print(f'La Probabilidad de Pertenecer a europa y haber ganado al menos 1 partido es :{P_europa_Gano_minimo_1_partido}')\n"
   ]
  },
  {
   "cell_type": "markdown",
   "id": "4f789c57-3623-49a6-bd82-9a3c40b0a15d",
   "metadata": {},
   "source": [
    "<left><h1> <font color='white'>t. Pertenecer a Asia y haber ganado al menos un partido</font></h1></center>"
   ]
  },
  {
   "cell_type": "code",
   "execution_count": 267,
   "id": "f2064fa1-b416-4c35-bd73-65d49b29f90f",
   "metadata": {},
   "outputs": [
    {
     "name": "stdout",
     "output_type": "stream",
     "text": [
      "La Probabilidad de Pertenecer a Asia y haber ganado al menos 1 partido es :0.84375\n"
     ]
    }
   ],
   "source": [
    "#condicion 1 Pertenecer a Asia\n",
    "condicion1 =  df_worldcup2014['continent'] =='asia'\n",
    "#condicion 2 haber ganado al menos 1 partido\n",
    "condicion2 =  df_worldcup2014['juegos_ganados']>=1\n",
    "\n",
    "P_asia_Gano_minimo_1_partido= (condicion1 | condicion2).sum()/df_Total\n",
    "\n",
    "print(f'La Probabilidad de Pertenecer a Asia y haber ganado al menos 1 partido es :{P_asia_Gano_minimo_1_partido}')\n"
   ]
  },
  {
   "cell_type": "markdown",
   "id": "b366018c-2d82-4dde-923c-a63df80df056",
   "metadata": {},
   "source": [
    "<left><h1> <font color='white'>u. Pertenecer a Sudamérica y haber ganado al menos un partido</font></h1></center>"
   ]
  },
  {
   "cell_type": "code",
   "execution_count": 270,
   "id": "c2ad5518-5e0d-4730-8f42-067d1846a09e",
   "metadata": {},
   "outputs": [
    {
     "name": "stdout",
     "output_type": "stream",
     "text": [
      "La Probabilidad de Pertenecer a sudamerica y haber ganado al menos 1 partido es :0.71875\n"
     ]
    }
   ],
   "source": [
    "#condicion 1 Pertenecer a sudamerica\n",
    "condicion1 =  df_worldcup2014['continent'] =='southamerica'\n",
    "#condicion 2 haber ganado al menos 1 partido\n",
    "condicion2 =  df_worldcup2014['juegos_ganados']>=1\n",
    "\n",
    "P_sudamerica_Gano_minimo_1_partido= (condicion1 | condicion2).sum()/df_Total\n",
    "\n",
    "print(f'La Probabilidad de Pertenecer a sudamerica y haber ganado al menos 1 partido es :{P_sudamerica_Gano_minimo_1_partido}')\n"
   ]
  },
  {
   "cell_type": "markdown",
   "id": "e952c3ef-5716-48b1-a243-074394fa4db1",
   "metadata": {},
   "source": [
    "<left><h1> <font color='white'>v. Pertenecer a Norteamérica y haber ganado al menos un partido</font></h1></center>"
   ]
  },
  {
   "cell_type": "code",
   "execution_count": 276,
   "id": "0c5fc242-bfc5-4e6d-86fc-c6887635b0c9",
   "metadata": {},
   "outputs": [
    {
     "name": "stdout",
     "output_type": "stream",
     "text": [
      "La Probabilidad de Pertenecer a sudamerica y haber ganado al menos 1 partido es :0.75\n"
     ]
    }
   ],
   "source": [
    "#condicion 1 Pertenecer a Asia\n",
    "condicion1 =  df_worldcup2014['continent'] =='northamerica'\n",
    "#condicion 2 haber ganado al menos 1 partido\n",
    "condicion2 =  df_worldcup2014['juegos_ganados']>=1\n",
    "\n",
    "P_northamerica_Gano_minimo_1_partido= (condicion1 | condicion2).sum()/df_Total\n",
    "\n",
    "print(f'La Probabilidad de Pertenecer a sudamerica y haber ganado al menos 1 partido es :{P_northamerica_Gano_minimo_1_partido}')\n"
   ]
  },
  {
   "cell_type": "markdown",
   "id": "6f4dd038-6ee4-4c4a-9440-3c8097a2de83",
   "metadata": {},
   "source": [
    "<left><h1> <font color='white'>w. haber ganado al menos un partido y clasificar a segunda ronda</font></h1></center>"
   ]
  },
  {
   "cell_type": "code",
   "execution_count": 279,
   "id": "4d31fca1-c02a-41c1-b5e5-c8a98bb8da88",
   "metadata": {},
   "outputs": [
    {
     "name": "stdout",
     "output_type": "stream",
     "text": [
      "La Probabilidad de Haber ganado al menos un partido y  clasificar a segunda ronda es :0.5\n"
     ]
    }
   ],
   "source": [
    "#condicion 1 Haber ganado al menos un partido\n",
    "condicion1 =  df_worldcup2014['juegos_ganados']>=1\n",
    "condicion2 =  df_worldcup2014['clasificado']==1\n",
    "\n",
    "P_Gano_minimo_1_partido_Clasifica_2da_ronda= (condicion1 & condicion2).sum()/df_Total\n",
    "\n",
    "print(f'La Probabilidad de Haber ganado al menos un partido y  clasificar a segunda ronda es :{P_Gano_minimo_1_partido_Clasifica_2da_ronda}')\n"
   ]
  },
  {
   "cell_type": "markdown",
   "id": "13043661-da8e-431d-a219-5f3c11d7929a",
   "metadata": {},
   "source": [
    "<left><h2> <font color='yellow'> 2- A partir de las probabilidades anteriores, y sin realizar conteos, calcular las\r\n",
    "siguientes probabilidades:</font></h2></left>"
   ]
  },
  {
   "cell_type": "markdown",
   "id": "72ac4fec-7637-488c-9bad-67110f1ac59a",
   "metadata": {},
   "source": [
    "<left><h1><font color='white'> a. Pertenecer a Europa, si se sabe que clasificó:</font></12></left>"
   ]
  },
  {
   "cell_type": "code",
   "execution_count": 438,
   "id": "9001c75b-a4c2-4341-a288-6cfb4106a44d",
   "metadata": {},
   "outputs": [
    {
     "name": "stdout",
     "output_type": "stream",
     "text": [
      "La Probabilidad de ser de europa y  clasificar a segunda ronda es :0.46153846153846156\n"
     ]
    }
   ],
   "source": [
    "P_Europa_siclasifico = P_Europa_clasificar_2da_ronda/df_Pertenecer_Europa\n",
    "print(f'La Probabilidad de ser de europa y  clasificar a segunda ronda es :{P_Europa_siclasifico}')"
   ]
  },
  {
   "cell_type": "markdown",
   "id": "0287a37b-9aa3-4e4d-b20c-4f4ff2fd11b1",
   "metadata": {},
   "source": [
    "<left><h1><font color='white'> b. Pertenecer a Sudamérica, si se sabe que clasificó</font></left>"
   ]
  },
  {
   "cell_type": "code",
   "execution_count": 441,
   "id": "56e6053b-286d-4f2f-bdd7-75700894350e",
   "metadata": {},
   "outputs": [
    {
     "name": "stdout",
     "output_type": "stream",
     "text": [
      "La Probabilidad de ser de sudamerica y  clasificar a segunda ronda es :0.8333333333333334\n"
     ]
    }
   ],
   "source": [
    "P_sudamerica_siclasifico = P_Sudamérica_clasificar_2da_ronda/df_Pertenecer_Sudamérica\n",
    "print(f'La Probabilidad de ser de sudamerica y  clasificar a segunda ronda es :{P_sudamerica_siclasifico}')"
   ]
  },
  {
   "cell_type": "markdown",
   "id": "3481e19c-1182-4b68-86a7-dcd0c2a4fcb2",
   "metadata": {},
   "source": [
    "<left><h1><font color='white'> c. pertenecer a África, si se sabe que ganó al menos un partido\r",
    "</font></left>"
   ]
  },
  {
   "cell_type": "code",
   "execution_count": 444,
   "id": "c4e7b5c6-2757-4206-8194-779c9d674809",
   "metadata": {},
   "outputs": [
    {
     "name": "stdout",
     "output_type": "stream",
     "text": [
      "La Probabilidad de ser de sudamerica y  clasificar a segunda ronda es :0.2\n"
     ]
    }
   ],
   "source": [
    "P_Africa_si_gano_1_partido = df_Pertenecer_Africa/P_Africa_Gano_minimo_1_partido\n",
    "print(f'La Probabilidad de ser de sudamerica y  clasificar a segunda ronda es :{P_Africa_si_gano_1_partido}')"
   ]
  },
  {
   "cell_type": "markdown",
   "id": "9f0d5886-7a47-4d79-b62b-570cfb88ec34",
   "metadata": {},
   "source": [
    "<left><h1><font color='white'> d. haber ganado al menos un partido, si se sabe que clasificó</font></left>"
   ]
  },
  {
   "cell_type": "code",
   "execution_count": 447,
   "id": "a41b5aef-2b44-4740-ad7c-421abb2b395a",
   "metadata": {},
   "outputs": [
    {
     "name": "stdout",
     "output_type": "stream",
     "text": [
      "La Probabilidad de haber ganado al menos un partido, si se sabe que clasificó es :0.2\n"
     ]
    }
   ],
   "source": [
    "#Sumar todos los que ganaron almenos 1 partido \n",
    "\n",
    "p_ganado_1_si_se_que_clasifico =condicion_ganar_1_partido.sum()/ condicion_clasificados\n",
    "\n",
    "print(f'La Probabilidad de haber ganado al menos un partido, si se sabe que clasificó es :{P_Africa_si_gano_1_partido}')\n"
   ]
  },
  {
   "cell_type": "markdown",
   "id": "afa26104-2b14-44c7-b6fe-083d4b6c99fa",
   "metadata": {},
   "source": [
    "<left><h1><font color='white'> e. haber ganado al menos un partido, si se sabe que pertenece a Norteamérica</font></left>"
   ]
  },
  {
   "cell_type": "code",
   "execution_count": 450,
   "id": "9239d2ca-619f-4e9e-b8b5-72af1849a650",
   "metadata": {},
   "outputs": [
    {
     "name": "stdout",
     "output_type": "stream",
     "text": [
      "La Probabilidad de haber ganado al menos un partido, si se sabe que pertenece a Norteamérica es :0.2\n"
     ]
    }
   ],
   "source": [
    "\n",
    "p_ganado_1_si_se_que_Norteamerica =condicion_ganar_1_partido.sum()/ df_Pertenecer_Norteamérica\n",
    "\n",
    "print(f'La Probabilidad de haber ganado al menos un partido, si se sabe que pertenece a Norteamérica es :{P_Africa_si_gano_1_partido}')\n"
   ]
  },
  {
   "cell_type": "code",
   "execution_count": null,
   "id": "d36644f4-7623-4f07-b706-edd39329a425",
   "metadata": {},
   "outputs": [],
   "source": []
  }
 ],
 "metadata": {
  "kernelspec": {
   "display_name": "Python 3 (ipykernel)",
   "language": "python",
   "name": "python3"
  },
  "language_info": {
   "codemirror_mode": {
    "name": "ipython",
    "version": 3
   },
   "file_extension": ".py",
   "mimetype": "text/x-python",
   "name": "python",
   "nbconvert_exporter": "python",
   "pygments_lexer": "ipython3",
   "version": "3.11.7"
  }
 },
 "nbformat": 4,
 "nbformat_minor": 5
}
